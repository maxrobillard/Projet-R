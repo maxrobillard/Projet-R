{
 "cells": [
  {
   "cell_type": "code",
   "execution_count": 127,
   "metadata": {},
   "outputs": [],
   "source": [
    "import pandas as pd\n",
    "import numpy as np"
   ]
  },
  {
   "cell_type": "code",
   "execution_count": 128,
   "metadata": {},
   "outputs": [],
   "source": [
    "youth = pd.read_csv(\"C:/Users/Utilisateur/Desktop/cours/Python_pour_la_data/projet/youth_alcohol/1519_drinks.csv\")\n",
    "tolerance = pd.read_csv(\"C:/Users/Utilisateur/Desktop/cours/Python_pour_la_data/projet/youth_alcohol/tolerance_alcohol.csv\")"
   ]
  },
  {
   "cell_type": "code",
   "execution_count": 56,
   "metadata": {},
   "outputs": [
    {
     "data": {
      "text/html": [
       "<div>\n",
       "<style scoped>\n",
       "    .dataframe tbody tr th:only-of-type {\n",
       "        vertical-align: middle;\n",
       "    }\n",
       "\n",
       "    .dataframe tbody tr th {\n",
       "        vertical-align: top;\n",
       "    }\n",
       "\n",
       "    .dataframe thead th {\n",
       "        text-align: right;\n",
       "    }\n",
       "</style>\n",
       "<table border=\"1\" class=\"dataframe\">\n",
       "  <thead>\n",
       "    <tr style=\"text-align: right;\">\n",
       "      <th></th>\n",
       "      <th>Unnamed: 0</th>\n",
       "      <th>Unnamed: 1</th>\n",
       "      <th>15-19 years old, current drinkers (%)</th>\n",
       "      <th>15-19 years old, current drinkers (%).1</th>\n",
       "      <th>15-19 years old, current drinkers (%).2</th>\n",
       "    </tr>\n",
       "  </thead>\n",
       "  <tbody>\n",
       "    <tr>\n",
       "      <th>0</th>\n",
       "      <td>Country</td>\n",
       "      <td>Year</td>\n",
       "      <td>Both sexes</td>\n",
       "      <td>Male</td>\n",
       "      <td>Female</td>\n",
       "    </tr>\n",
       "    <tr>\n",
       "      <th>1</th>\n",
       "      <td>Afghanistan</td>\n",
       "      <td>2016</td>\n",
       "      <td>0.3 [0.3-0.4]</td>\n",
       "      <td>0.5 [0.4-0.7]</td>\n",
       "      <td>0.1 [0.1-0.2]</td>\n",
       "    </tr>\n",
       "    <tr>\n",
       "      <th>2</th>\n",
       "      <td>Albania</td>\n",
       "      <td>2016</td>\n",
       "      <td>37.7 [34.8-40.5]</td>\n",
       "      <td>50.5 [46-54.9]</td>\n",
       "      <td>24.2 [21.1-27.6]</td>\n",
       "    </tr>\n",
       "    <tr>\n",
       "      <th>3</th>\n",
       "      <td>Algeria</td>\n",
       "      <td>2016</td>\n",
       "      <td>1.5 [1.3-1.8]</td>\n",
       "      <td>2.3 [1.9-2.8]</td>\n",
       "      <td>0.7 [0.6-0.9]</td>\n",
       "    </tr>\n",
       "    <tr>\n",
       "      <th>4</th>\n",
       "      <td>Andorra</td>\n",
       "      <td>2016</td>\n",
       "      <td>64.2 [-]</td>\n",
       "      <td>76.6 [-]</td>\n",
       "      <td>50.7 [-]</td>\n",
       "    </tr>\n",
       "  </tbody>\n",
       "</table>\n",
       "</div>"
      ],
      "text/plain": [
       "    Unnamed: 0 Unnamed: 1 15-19 years old, current drinkers (%)  \\\n",
       "0      Country       Year                            Both sexes   \n",
       "1  Afghanistan       2016                         0.3 [0.3-0.4]   \n",
       "2      Albania       2016                      37.7 [34.8-40.5]   \n",
       "3      Algeria       2016                         1.5 [1.3-1.8]   \n",
       "4      Andorra       2016                              64.2 [-]   \n",
       "\n",
       "  15-19 years old, current drinkers (%).1  \\\n",
       "0                                    Male   \n",
       "1                           0.5 [0.4-0.7]   \n",
       "2                          50.5 [46-54.9]   \n",
       "3                           2.3 [1.9-2.8]   \n",
       "4                                76.6 [-]   \n",
       "\n",
       "  15-19 years old, current drinkers (%).2  \n",
       "0                                  Female  \n",
       "1                           0.1 [0.1-0.2]  \n",
       "2                        24.2 [21.1-27.6]  \n",
       "3                           0.7 [0.6-0.9]  \n",
       "4                                50.7 [-]  "
      ]
     },
     "execution_count": 56,
     "metadata": {},
     "output_type": "execute_result"
    }
   ],
   "source": [
    "youth.head()"
   ]
  },
  {
   "cell_type": "code",
   "execution_count": 129,
   "metadata": {},
   "outputs": [
    {
     "data": {
      "text/html": [
       "<div>\n",
       "<style scoped>\n",
       "    .dataframe tbody tr th:only-of-type {\n",
       "        vertical-align: middle;\n",
       "    }\n",
       "\n",
       "    .dataframe tbody tr th {\n",
       "        vertical-align: top;\n",
       "    }\n",
       "\n",
       "    .dataframe thead th {\n",
       "        text-align: right;\n",
       "    }\n",
       "</style>\n",
       "<table border=\"1\" class=\"dataframe\">\n",
       "  <thead>\n",
       "    <tr style=\"text-align: right;\">\n",
       "      <th></th>\n",
       "      <th>Unnamed: 0</th>\n",
       "      <th>Unnamed: 1</th>\n",
       "      <th>Legal blood alcohol concentration (BAC) limits</th>\n",
       "    </tr>\n",
       "  </thead>\n",
       "  <tbody>\n",
       "    <tr>\n",
       "      <th>0</th>\n",
       "      <td>Country</td>\n",
       "      <td>Year</td>\n",
       "      <td>Young/novice drivers</td>\n",
       "    </tr>\n",
       "    <tr>\n",
       "      <th>1</th>\n",
       "      <td>Afghanistan</td>\n",
       "      <td>2016</td>\n",
       "      <td>total ban</td>\n",
       "    </tr>\n",
       "    <tr>\n",
       "      <th>2</th>\n",
       "      <td>Albania</td>\n",
       "      <td>2016</td>\n",
       "      <td>0.01%</td>\n",
       "    </tr>\n",
       "    <tr>\n",
       "      <th>3</th>\n",
       "      <td>Algeria</td>\n",
       "      <td>2016</td>\n",
       "      <td>0.02%</td>\n",
       "    </tr>\n",
       "    <tr>\n",
       "      <th>4</th>\n",
       "      <td>Andorra</td>\n",
       "      <td>2016</td>\n",
       "      <td>0.05%</td>\n",
       "    </tr>\n",
       "  </tbody>\n",
       "</table>\n",
       "</div>"
      ],
      "text/plain": [
       "    Unnamed: 0 Unnamed: 1 Legal blood alcohol concentration (BAC) limits\n",
       "0      Country       Year                           Young/novice drivers\n",
       "1  Afghanistan       2016                                      total ban\n",
       "2      Albania       2016                                          0.01%\n",
       "3      Algeria       2016                                          0.02%\n",
       "4      Andorra       2016                                          0.05%"
      ]
     },
     "execution_count": 129,
     "metadata": {},
     "output_type": "execute_result"
    }
   ],
   "source": [
    "tolerance.head()"
   ]
  },
  {
   "cell_type": "code",
   "execution_count": 58,
   "metadata": {},
   "outputs": [],
   "source": [
    "youth.columns = ['Country','Year','15-19 years old, current drinkers both sexes (%)' , '15-19 years old, current males drinkers (%)' , '15-19 years old, current females drinkers (%)']"
   ]
  },
  {
   "cell_type": "code",
   "execution_count": 59,
   "metadata": {},
   "outputs": [
    {
     "data": {
      "text/html": [
       "<div>\n",
       "<style scoped>\n",
       "    .dataframe tbody tr th:only-of-type {\n",
       "        vertical-align: middle;\n",
       "    }\n",
       "\n",
       "    .dataframe tbody tr th {\n",
       "        vertical-align: top;\n",
       "    }\n",
       "\n",
       "    .dataframe thead th {\n",
       "        text-align: right;\n",
       "    }\n",
       "</style>\n",
       "<table border=\"1\" class=\"dataframe\">\n",
       "  <thead>\n",
       "    <tr style=\"text-align: right;\">\n",
       "      <th></th>\n",
       "      <th>Country</th>\n",
       "      <th>Year</th>\n",
       "      <th>15-19 years old, current drinkers both sexes (%)</th>\n",
       "      <th>15-19 years old, current males drinkers (%)</th>\n",
       "      <th>15-19 years old, current females drinkers (%)</th>\n",
       "    </tr>\n",
       "  </thead>\n",
       "  <tbody>\n",
       "    <tr>\n",
       "      <th>1</th>\n",
       "      <td>Afghanistan</td>\n",
       "      <td>2016</td>\n",
       "      <td>0.3 [0.3-0.4]</td>\n",
       "      <td>0.5 [0.4-0.7]</td>\n",
       "      <td>0.1 [0.1-0.2]</td>\n",
       "    </tr>\n",
       "    <tr>\n",
       "      <th>2</th>\n",
       "      <td>Albania</td>\n",
       "      <td>2016</td>\n",
       "      <td>37.7 [34.8-40.5]</td>\n",
       "      <td>50.5 [46-54.9]</td>\n",
       "      <td>24.2 [21.1-27.6]</td>\n",
       "    </tr>\n",
       "    <tr>\n",
       "      <th>3</th>\n",
       "      <td>Algeria</td>\n",
       "      <td>2016</td>\n",
       "      <td>1.5 [1.3-1.8]</td>\n",
       "      <td>2.3 [1.9-2.8]</td>\n",
       "      <td>0.7 [0.6-0.9]</td>\n",
       "    </tr>\n",
       "    <tr>\n",
       "      <th>4</th>\n",
       "      <td>Andorra</td>\n",
       "      <td>2016</td>\n",
       "      <td>64.2 [-]</td>\n",
       "      <td>76.6 [-]</td>\n",
       "      <td>50.7 [-]</td>\n",
       "    </tr>\n",
       "    <tr>\n",
       "      <th>5</th>\n",
       "      <td>Angola</td>\n",
       "      <td>2016</td>\n",
       "      <td>33.5 [29.7-37.2]</td>\n",
       "      <td>46 [39.8-52.3]</td>\n",
       "      <td>21.1 [17.2-25.6]</td>\n",
       "    </tr>\n",
       "  </tbody>\n",
       "</table>\n",
       "</div>"
      ],
      "text/plain": [
       "       Country  Year 15-19 years old, current drinkers both sexes (%)  \\\n",
       "1  Afghanistan  2016                                    0.3 [0.3-0.4]   \n",
       "2      Albania  2016                                 37.7 [34.8-40.5]   \n",
       "3      Algeria  2016                                    1.5 [1.3-1.8]   \n",
       "4      Andorra  2016                                         64.2 [-]   \n",
       "5       Angola  2016                                 33.5 [29.7-37.2]   \n",
       "\n",
       "  15-19 years old, current males drinkers (%)  \\\n",
       "1                               0.5 [0.4-0.7]   \n",
       "2                              50.5 [46-54.9]   \n",
       "3                               2.3 [1.9-2.8]   \n",
       "4                                    76.6 [-]   \n",
       "5                              46 [39.8-52.3]   \n",
       "\n",
       "  15-19 years old, current females drinkers (%)  \n",
       "1                                 0.1 [0.1-0.2]  \n",
       "2                              24.2 [21.1-27.6]  \n",
       "3                                 0.7 [0.6-0.9]  \n",
       "4                                      50.7 [-]  \n",
       "5                              21.1 [17.2-25.6]  "
      ]
     },
     "execution_count": 59,
     "metadata": {},
     "output_type": "execute_result"
    }
   ],
   "source": [
    "youth = youth.drop([0])\n",
    "youth.head()"
   ]
  },
  {
   "cell_type": "code",
   "execution_count": 16,
   "metadata": {},
   "outputs": [],
   "source": [
    "youth.to_csv('youth_good.csv')"
   ]
  },
  {
   "cell_type": "code",
   "execution_count": 130,
   "metadata": {},
   "outputs": [],
   "source": [
    "tolerance.columns = ['Country' , 'Year' , 'Legal blood alcohol concentration (BAC) limits for young/novice drivers']"
   ]
  },
  {
   "cell_type": "code",
   "execution_count": 133,
   "metadata": {},
   "outputs": [
    {
     "data": {
      "text/html": [
       "<div>\n",
       "<style scoped>\n",
       "    .dataframe tbody tr th:only-of-type {\n",
       "        vertical-align: middle;\n",
       "    }\n",
       "\n",
       "    .dataframe tbody tr th {\n",
       "        vertical-align: top;\n",
       "    }\n",
       "\n",
       "    .dataframe thead th {\n",
       "        text-align: right;\n",
       "    }\n",
       "</style>\n",
       "<table border=\"1\" class=\"dataframe\">\n",
       "  <thead>\n",
       "    <tr style=\"text-align: right;\">\n",
       "      <th></th>\n",
       "      <th>Country</th>\n",
       "      <th>Year</th>\n",
       "      <th>Legal blood alcohol concentration (BAC) limits for young/novice drivers</th>\n",
       "    </tr>\n",
       "  </thead>\n",
       "  <tbody>\n",
       "    <tr>\n",
       "      <th>1</th>\n",
       "      <td>Afghanistan</td>\n",
       "      <td>2016</td>\n",
       "      <td>total ban</td>\n",
       "    </tr>\n",
       "    <tr>\n",
       "      <th>2</th>\n",
       "      <td>Albania</td>\n",
       "      <td>2016</td>\n",
       "      <td>0.01%</td>\n",
       "    </tr>\n",
       "    <tr>\n",
       "      <th>3</th>\n",
       "      <td>Algeria</td>\n",
       "      <td>2016</td>\n",
       "      <td>0.02%</td>\n",
       "    </tr>\n",
       "    <tr>\n",
       "      <th>4</th>\n",
       "      <td>Andorra</td>\n",
       "      <td>2016</td>\n",
       "      <td>0.05%</td>\n",
       "    </tr>\n",
       "    <tr>\n",
       "      <th>5</th>\n",
       "      <td>Angola</td>\n",
       "      <td>2016</td>\n",
       "      <td>0.06%</td>\n",
       "    </tr>\n",
       "  </tbody>\n",
       "</table>\n",
       "</div>"
      ],
      "text/plain": [
       "       Country  Year  \\\n",
       "1  Afghanistan  2016   \n",
       "2      Albania  2016   \n",
       "3      Algeria  2016   \n",
       "4      Andorra  2016   \n",
       "5       Angola  2016   \n",
       "\n",
       "  Legal blood alcohol concentration (BAC) limits for young/novice drivers  \n",
       "1                                          total ban                       \n",
       "2                                              0.01%                       \n",
       "3                                              0.02%                       \n",
       "4                                              0.05%                       \n",
       "5                                              0.06%                       "
      ]
     },
     "execution_count": 133,
     "metadata": {},
     "output_type": "execute_result"
    }
   ],
   "source": [
    "tolerance.head()"
   ]
  },
  {
   "cell_type": "code",
   "execution_count": 132,
   "metadata": {},
   "outputs": [],
   "source": [
    "tolerance = tolerance.drop([0])"
   ]
  },
  {
   "cell_type": "code",
   "execution_count": 134,
   "metadata": {},
   "outputs": [
    {
     "data": {
      "text/plain": [
       "array(['total ban', '0.01%', '0.02%', '0.05%', '0.06%', 'none', '0.08%',\n",
       "       'zero tolerance', '.', '0.03%', '0.04%', '0.07%', 'sub-national',\n",
       "       '0.10%', 'Zero tolerance', 'subnational'], dtype=object)"
      ]
     },
     "execution_count": 134,
     "metadata": {},
     "output_type": "execute_result"
    }
   ],
   "source": [
    "tolerance['Legal blood alcohol concentration (BAC) limits for young/novice drivers'].unique()"
   ]
  },
  {
   "cell_type": "code",
   "execution_count": 135,
   "metadata": {},
   "outputs": [],
   "source": [
    "tolerance['Legal blood alcohol concentration (BAC) limits for young/novice drivers'] = tolerance['Legal blood alcohol concentration (BAC) limits for young/novice drivers'].str.replace('%','')"
   ]
  },
  {
   "cell_type": "code",
   "execution_count": 136,
   "metadata": {},
   "outputs": [
    {
     "data": {
      "text/plain": [
       "array(['total ban', '0.01', '0.02', '0.05', '0.06', 'none', '0.08',\n",
       "       'zero tolerance', '.', '0.03', '0.04', '0.07', 'sub-national',\n",
       "       '0.10', 'Zero tolerance', 'subnational'], dtype=object)"
      ]
     },
     "execution_count": 136,
     "metadata": {},
     "output_type": "execute_result"
    }
   ],
   "source": [
    "tolerance['Legal blood alcohol concentration (BAC) limits for young/novice drivers'].unique()"
   ]
  },
  {
   "cell_type": "code",
   "execution_count": 137,
   "metadata": {},
   "outputs": [],
   "source": [
    "tolerance['Legal blood alcohol concentration (BAC) limits for young/novice drivers'] = tolerance['Legal blood alcohol concentration (BAC) limits for young/novice drivers'].str.replace('none','0.0')"
   ]
  },
  {
   "cell_type": "code",
   "execution_count": 138,
   "metadata": {},
   "outputs": [
    {
     "data": {
      "text/plain": [
       "array(['total ban', '0.01', '0.02', '0.05', '0.06', '0.0', '0.08',\n",
       "       'zero tolerance', '.', '0.03', '0.04', '0.07', 'sub-national',\n",
       "       '0.10', 'Zero tolerance', 'subnational'], dtype=object)"
      ]
     },
     "execution_count": 138,
     "metadata": {},
     "output_type": "execute_result"
    }
   ],
   "source": [
    "tolerance['Legal blood alcohol concentration (BAC) limits for young/novice drivers'].unique()"
   ]
  },
  {
   "cell_type": "code",
   "execution_count": 139,
   "metadata": {},
   "outputs": [],
   "source": [
    "tolerance['Legal blood alcohol concentration (BAC) limits for young/novice drivers'] = tolerance['Legal blood alcohol concentration (BAC) limits for young/novice drivers'].str.replace('total ban','0.0')"
   ]
  },
  {
   "cell_type": "code",
   "execution_count": 140,
   "metadata": {},
   "outputs": [
    {
     "data": {
      "text/plain": [
       "array(['0.0', '0.01', '0.02', '0.05', '0.06', '0.08', 'zero tolerance',\n",
       "       '.', '0.03', '0.04', '0.07', 'sub-national', '0.10',\n",
       "       'Zero tolerance', 'subnational'], dtype=object)"
      ]
     },
     "execution_count": 140,
     "metadata": {},
     "output_type": "execute_result"
    }
   ],
   "source": [
    "tolerance['Legal blood alcohol concentration (BAC) limits for young/novice drivers'].unique()"
   ]
  },
  {
   "cell_type": "code",
   "execution_count": 141,
   "metadata": {},
   "outputs": [],
   "source": [
    "tolerance['Legal blood alcohol concentration (BAC) limits for young/novice drivers'] = tolerance['Legal blood alcohol concentration (BAC) limits for young/novice drivers'].str.replace('zero tolerance','0.0')\n",
    "tolerance['Legal blood alcohol concentration (BAC) limits for young/novice drivers'] = tolerance['Legal blood alcohol concentration (BAC) limits for young/novice drivers'].str.replace('sub-national','0.0')\n",
    "tolerance['Legal blood alcohol concentration (BAC) limits for young/novice drivers'] = tolerance['Legal blood alcohol concentration (BAC) limits for young/novice drivers'].str.replace('Zero tolerance','0.0')\n",
    "tolerance['Legal blood alcohol concentration (BAC) limits for young/novice drivers'] = tolerance['Legal blood alcohol concentration (BAC) limits for young/novice drivers'].str.replace('subnational','0.0')"
   ]
  },
  {
   "cell_type": "code",
   "execution_count": 142,
   "metadata": {},
   "outputs": [
    {
     "data": {
      "text/plain": [
       "array(['0.0', '0.01', '0.02', '0.05', '0.06', '0.08', '.', '0.03', '0.04',\n",
       "       '0.07', '0.10'], dtype=object)"
      ]
     },
     "execution_count": 142,
     "metadata": {},
     "output_type": "execute_result"
    }
   ],
   "source": [
    "tolerance['Legal blood alcohol concentration (BAC) limits for young/novice drivers'].unique()"
   ]
  },
  {
   "cell_type": "code",
   "execution_count": 152,
   "metadata": {},
   "outputs": [],
   "source": [
    "d = tolerance[tolerance['Legal blood alcohol concentration (BAC) limits for young/novice drivers'] == '.'].index\n",
    "\n",
    "tolerance = tolerance.drop(d)"
   ]
  },
  {
   "cell_type": "code",
   "execution_count": 153,
   "metadata": {},
   "outputs": [
    {
     "data": {
      "text/plain": [
       "array(['0.0', '0.01', '0.02', '0.05', '0.06', '0.08', '0.03', '0.04',\n",
       "       '0.07', '0.10'], dtype=object)"
      ]
     },
     "execution_count": 153,
     "metadata": {},
     "output_type": "execute_result"
    }
   ],
   "source": [
    "tolerance['Legal blood alcohol concentration (BAC) limits for young/novice drivers'].unique()"
   ]
  },
  {
   "cell_type": "code",
   "execution_count": 154,
   "metadata": {},
   "outputs": [
    {
     "data": {
      "text/plain": [
       "1      0.00\n",
       "2      0.01\n",
       "3      0.02\n",
       "4      0.05\n",
       "5      0.06\n",
       "       ... \n",
       "190    0.08\n",
       "191    0.00\n",
       "192    0.00\n",
       "193    0.08\n",
       "194    0.08\n",
       "Name: Legal blood alcohol concentration (BAC) limits for young/novice drivers, Length: 178, dtype: float64"
      ]
     },
     "execution_count": 154,
     "metadata": {},
     "output_type": "execute_result"
    }
   ],
   "source": [
    "tolerance['Legal blood alcohol concentration (BAC) limits for young/novice drivers'].astype('float64')"
   ]
  },
  {
   "cell_type": "code",
   "execution_count": 155,
   "metadata": {},
   "outputs": [
    {
     "data": {
      "text/html": [
       "<div>\n",
       "<style scoped>\n",
       "    .dataframe tbody tr th:only-of-type {\n",
       "        vertical-align: middle;\n",
       "    }\n",
       "\n",
       "    .dataframe tbody tr th {\n",
       "        vertical-align: top;\n",
       "    }\n",
       "\n",
       "    .dataframe thead th {\n",
       "        text-align: right;\n",
       "    }\n",
       "</style>\n",
       "<table border=\"1\" class=\"dataframe\">\n",
       "  <thead>\n",
       "    <tr style=\"text-align: right;\">\n",
       "      <th></th>\n",
       "      <th>Country</th>\n",
       "      <th>Year</th>\n",
       "      <th>Legal blood alcohol concentration (BAC) limits for young/novice drivers</th>\n",
       "    </tr>\n",
       "  </thead>\n",
       "  <tbody>\n",
       "    <tr>\n",
       "      <th>1</th>\n",
       "      <td>Afghanistan</td>\n",
       "      <td>2016</td>\n",
       "      <td>0.0</td>\n",
       "    </tr>\n",
       "    <tr>\n",
       "      <th>2</th>\n",
       "      <td>Albania</td>\n",
       "      <td>2016</td>\n",
       "      <td>0.01</td>\n",
       "    </tr>\n",
       "    <tr>\n",
       "      <th>3</th>\n",
       "      <td>Algeria</td>\n",
       "      <td>2016</td>\n",
       "      <td>0.02</td>\n",
       "    </tr>\n",
       "    <tr>\n",
       "      <th>4</th>\n",
       "      <td>Andorra</td>\n",
       "      <td>2016</td>\n",
       "      <td>0.05</td>\n",
       "    </tr>\n",
       "    <tr>\n",
       "      <th>5</th>\n",
       "      <td>Angola</td>\n",
       "      <td>2016</td>\n",
       "      <td>0.06</td>\n",
       "    </tr>\n",
       "  </tbody>\n",
       "</table>\n",
       "</div>"
      ],
      "text/plain": [
       "       Country  Year  \\\n",
       "1  Afghanistan  2016   \n",
       "2      Albania  2016   \n",
       "3      Algeria  2016   \n",
       "4      Andorra  2016   \n",
       "5       Angola  2016   \n",
       "\n",
       "  Legal blood alcohol concentration (BAC) limits for young/novice drivers  \n",
       "1                                                0.0                       \n",
       "2                                               0.01                       \n",
       "3                                               0.02                       \n",
       "4                                               0.05                       \n",
       "5                                               0.06                       "
      ]
     },
     "execution_count": 155,
     "metadata": {},
     "output_type": "execute_result"
    }
   ],
   "source": [
    "tolerance.head()"
   ]
  },
  {
   "cell_type": "code",
   "execution_count": 156,
   "metadata": {},
   "outputs": [],
   "source": [
    "tolerance.to_csv('tolerance_good.csv')"
   ]
  }
 ],
 "metadata": {
  "kernelspec": {
   "display_name": "Python 3",
   "language": "python",
   "name": "python3"
  },
  "language_info": {
   "codemirror_mode": {
    "name": "ipython",
    "version": 3
   },
   "file_extension": ".py",
   "mimetype": "text/x-python",
   "name": "python",
   "nbconvert_exporter": "python",
   "pygments_lexer": "ipython3",
   "version": "3.7.6"
  }
 },
 "nbformat": 4,
 "nbformat_minor": 2
}
